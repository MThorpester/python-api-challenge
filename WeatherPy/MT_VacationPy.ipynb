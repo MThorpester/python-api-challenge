{
 "cells": [
  {
   "cell_type": "markdown",
   "metadata": {},
   "source": [
    "# VacationPy\n",
    "## Overview\n",
    "This notebook analyzes filters through a list of more than 500+ randomly selected cities across the world, looking for those with ideal weather conditions. It uses the Google Places API to finds hotels close to those perfect locations so that I can plan my next vacation, and it uses Jupyter-gmaps to visualize these locations across a worldwide humidity map. \n",
    "#### Notes\n",
    "* Had to enable some things (in Bash, after activating Python Data environment, before opening Jupyter):\n",
    "    - jupyter nbextension enable --py gmaps\n",
    "    - jupyter nbextension enable --py widgetsnbextension\n",
    "* Keep an eye on API usage. Use https://developers.google.com/maps/reporting/gmp-reporting as reference for how to monitor your usage and billing."
   ]
  },
  {
   "cell_type": "code",
   "execution_count": 1,
   "metadata": {},
   "outputs": [],
   "source": [
    "# Dependencies and Setup\n",
    "import matplotlib.pyplot as plt\n",
    "import pandas as pd\n",
    "import numpy as np\n",
    "import requests\n",
    "import gmaps\n",
    "import os\n",
    "\n",
    "# Import API key\n",
    "from api_keys import g_key"
   ]
  },
  {
   "cell_type": "markdown",
   "metadata": {},
   "source": [
    "### Store Part I results into DataFrame"
   ]
  },
  {
   "cell_type": "code",
   "execution_count": 3,
   "metadata": {},
   "outputs": [],
   "source": [
    "# Read Cities csv that was created in the WeatherPy notebook and store into a Pandas DataFrame\n",
    "input_data_file = \"output_data/cities.csv\"\n",
    "city_df = pd.read_csv(input_data_file)\n",
    "\n",
    "# Drop the extra index column\n",
    "city_df.drop(['Unnamed: 0'], axis = 1, inplace = True)"
   ]
  },
  {
   "cell_type": "markdown",
   "metadata": {},
   "source": [
    "### Humidity Heatmap"
   ]
  },
  {
   "cell_type": "code",
   "execution_count": 5,
   "metadata": {},
   "outputs": [
    {
     "data": {
      "application/vnd.jupyter.widget-view+json": {
       "model_id": "25b9df786f6746ad83457cda5063f26d",
       "version_major": 2,
       "version_minor": 0
      },
      "text/plain": [
       "Figure(layout=FigureLayout(height='420px'))"
      ]
     },
     "metadata": {},
     "output_type": "display_data"
    }
   ],
   "source": [
    "# Configure gmaps - access maps with unique API key\n",
    "gmaps.configure(api_key=g_key)\n",
    "\n",
    "# Use the Lat and Lng as locations and Humidity as the weight.\n",
    "locations = city_df[[\"Latitude\",\"Longitude\"]]\n",
    "humidity = city_df[\"Humidity\"].astype(float)\n",
    "\n",
    "# Plot Heatmap\n",
    "fig = gmaps.figure()\n",
    "\n",
    "# Create heat layer\n",
    "heat_layer = gmaps.heatmap_layer(locations, weights=humidity, \n",
    "                                 dissipating=False, max_intensity=100,\n",
    "                                 point_radius=1)\n",
    "\n",
    "# Add Heatmap layer to map\n",
    "fig.add_layer(heat_layer)\n",
    "\n",
    "# Display figure\n",
    "fig"
   ]
  },
  {
   "cell_type": "markdown",
   "metadata": {},
   "source": [
    "### Create new DataFrame fitting weather criteria"
   ]
  },
  {
   "cell_type": "code",
   "execution_count": 9,
   "metadata": {
    "scrolled": true
   },
   "outputs": [],
   "source": [
    "# Narrow down the cities to fit your ideal weather conditions.\n",
    "# First turn these columns into floats so we can do numeric comparisons on them\n",
    "city_df[[\"Max Temp\", \"Humidity\", \"Cloudiness\",\"Wind Speed\"]].astype(float)\n",
    "\n",
    "# Narrow down the cities to fit weather conditions.\n",
    "perfect_temp = city_df.loc[(city_df[\"Max Temp\"] < 80) & (city_df[\"Max Temp\"] > 70)]\n",
    "low_clouds = perfect_temp.loc[(perfect_temp[\"Cloudiness\"] == 0)]\n",
    "not_too_windy = low_clouds.loc[(low_clouds[\"Wind Speed\"] < 10)]\n",
    "\n",
    "# Drop any rows with null values ad Store into variable named hotel_df.\n",
    "hotel_df = not_too_windy.dropna().set_index(\"City\").reset_index()\n",
    "\n",
    "# Add a \"Hotel Name\" column to the DataFrame.\n",
    "hotel_df[\"Hotel Name\"] = \"\""
   ]
  },
  {
   "cell_type": "markdown",
   "metadata": {},
   "source": [
    "### Add Hotels to Map\n"
   ]
  },
  {
   "cell_type": "code",
   "execution_count": 10,
   "metadata": {},
   "outputs": [],
   "source": [
    "# Set parameters to do a nearby places search for hotels witin 5000 meters.\n",
    "base_url = \"https://maps.googleapis.com/maps/api/place/nearbysearch/json\"\n",
    "params = {\n",
    "    \"radius\": 5000,\n",
    "    \"keyword\": \"hotel\",\n",
    "    \"key\": g_key\n",
    "}\n",
    "# Iterate through the df of cities with perfect weather and hit the Google Places API for each city's coordinates.\n",
    "for index, row in hotel_df.iterrows():\n",
    "\n",
    "    # get latitude & longitude of each city\n",
    "    lat = row[\"Latitude\"]\n",
    "    lng = row[\"Longitude\"]\n",
    "       \n",
    "    # change the location parameter for each city\n",
    "    params['location'] = f\"{lat},{lng}\"\n",
    "\n",
    "    # assemble the url and call the nearby places search API\n",
    "    response = requests.get(base_url, params=params).json()\n",
    "    \n",
    "    try:\n",
    "        hotel_df.loc[index,\"Hotel Name\"] = (response[\"results\"][0][\"name\"])\n",
    "    except: \n",
    "        pass\n",
    "    \n",
    "# Remove all of the rows from the hotel_df for cities that the API did not find hotels for\n",
    "hotel_df = hotel_df.loc[(hotel_df[\"Hotel Name\"] != \"\")]"
   ]
  },
  {
   "cell_type": "code",
   "execution_count": 12,
   "metadata": {
    "scrolled": true
   },
   "outputs": [
    {
     "data": {
      "text/html": [
       "<div>\n",
       "<style scoped>\n",
       "    .dataframe tbody tr th:only-of-type {\n",
       "        vertical-align: middle;\n",
       "    }\n",
       "\n",
       "    .dataframe tbody tr th {\n",
       "        vertical-align: top;\n",
       "    }\n",
       "\n",
       "    .dataframe thead th {\n",
       "        text-align: right;\n",
       "    }\n",
       "</style>\n",
       "<table border=\"1\" class=\"dataframe\">\n",
       "  <thead>\n",
       "    <tr style=\"text-align: right;\">\n",
       "      <th></th>\n",
       "      <th>City</th>\n",
       "      <th>Latitude</th>\n",
       "      <th>Longitude</th>\n",
       "      <th>Max Temp</th>\n",
       "      <th>Humidity</th>\n",
       "      <th>Cloudiness</th>\n",
       "      <th>Wind Speed</th>\n",
       "      <th>Country</th>\n",
       "      <th>Date</th>\n",
       "      <th>Hotel Name</th>\n",
       "    </tr>\n",
       "  </thead>\n",
       "  <tbody>\n",
       "    <tr>\n",
       "      <th>1</th>\n",
       "      <td>moratuwa</td>\n",
       "      <td>6.7730</td>\n",
       "      <td>79.8816</td>\n",
       "      <td>77.00</td>\n",
       "      <td>78</td>\n",
       "      <td>0</td>\n",
       "      <td>9.22</td>\n",
       "      <td>LK</td>\n",
       "      <td>1612381205</td>\n",
       "      <td>Thotupola Lakeside</td>\n",
       "    </tr>\n",
       "    <tr>\n",
       "      <th>2</th>\n",
       "      <td>east london</td>\n",
       "      <td>-33.0153</td>\n",
       "      <td>27.9116</td>\n",
       "      <td>75.20</td>\n",
       "      <td>78</td>\n",
       "      <td>0</td>\n",
       "      <td>2.30</td>\n",
       "      <td>ZA</td>\n",
       "      <td>1612381180</td>\n",
       "      <td>Blue Lagoon Hotel</td>\n",
       "    </tr>\n",
       "    <tr>\n",
       "      <th>3</th>\n",
       "      <td>atar</td>\n",
       "      <td>20.5169</td>\n",
       "      <td>-13.0499</td>\n",
       "      <td>72.97</td>\n",
       "      <td>19</td>\n",
       "      <td>0</td>\n",
       "      <td>0.67</td>\n",
       "      <td>MR</td>\n",
       "      <td>1612381258</td>\n",
       "      <td>Odar kanawal</td>\n",
       "    </tr>\n",
       "    <tr>\n",
       "      <th>4</th>\n",
       "      <td>pisco</td>\n",
       "      <td>-13.7000</td>\n",
       "      <td>-76.2167</td>\n",
       "      <td>75.99</td>\n",
       "      <td>69</td>\n",
       "      <td>0</td>\n",
       "      <td>8.05</td>\n",
       "      <td>PE</td>\n",
       "      <td>1612381234</td>\n",
       "      <td>HOSTAL MIRAMAR</td>\n",
       "    </tr>\n",
       "    <tr>\n",
       "      <th>5</th>\n",
       "      <td>moa</td>\n",
       "      <td>20.6569</td>\n",
       "      <td>-74.9403</td>\n",
       "      <td>73.71</td>\n",
       "      <td>54</td>\n",
       "      <td>0</td>\n",
       "      <td>8.50</td>\n",
       "      <td>CU</td>\n",
       "      <td>1612381266</td>\n",
       "      <td>Islazul Miraflores</td>\n",
       "    </tr>\n",
       "    <tr>\n",
       "      <th>8</th>\n",
       "      <td>constitucion</td>\n",
       "      <td>-35.3333</td>\n",
       "      <td>-72.4167</td>\n",
       "      <td>71.71</td>\n",
       "      <td>50</td>\n",
       "      <td>0</td>\n",
       "      <td>9.48</td>\n",
       "      <td>CL</td>\n",
       "      <td>1612381264</td>\n",
       "      <td>Hotel Boutique Las Azucenas</td>\n",
       "    </tr>\n",
       "    <tr>\n",
       "      <th>10</th>\n",
       "      <td>ratnagiri</td>\n",
       "      <td>16.9833</td>\n",
       "      <td>73.3000</td>\n",
       "      <td>74.21</td>\n",
       "      <td>43</td>\n",
       "      <td>0</td>\n",
       "      <td>4.72</td>\n",
       "      <td>IN</td>\n",
       "      <td>1612381316</td>\n",
       "      <td>Kohinoor Samudra Beach Resort, Ratnagiri</td>\n",
       "    </tr>\n",
       "    <tr>\n",
       "      <th>11</th>\n",
       "      <td>ancud</td>\n",
       "      <td>-41.8697</td>\n",
       "      <td>-73.8203</td>\n",
       "      <td>71.60</td>\n",
       "      <td>56</td>\n",
       "      <td>0</td>\n",
       "      <td>6.91</td>\n",
       "      <td>CL</td>\n",
       "      <td>1612381346</td>\n",
       "      <td>Panamericana Hotel Ancud</td>\n",
       "    </tr>\n",
       "    <tr>\n",
       "      <th>12</th>\n",
       "      <td>kampot</td>\n",
       "      <td>10.6167</td>\n",
       "      <td>104.1833</td>\n",
       "      <td>71.60</td>\n",
       "      <td>88</td>\n",
       "      <td>0</td>\n",
       "      <td>2.30</td>\n",
       "      <td>KH</td>\n",
       "      <td>1612381360</td>\n",
       "      <td>Bamboo Bungalow</td>\n",
       "    </tr>\n",
       "  </tbody>\n",
       "</table>\n",
       "</div>"
      ],
      "text/plain": [
       "            City  Latitude  Longitude  Max Temp  Humidity  Cloudiness  \\\n",
       "1       moratuwa    6.7730    79.8816     77.00        78           0   \n",
       "2    east london  -33.0153    27.9116     75.20        78           0   \n",
       "3           atar   20.5169   -13.0499     72.97        19           0   \n",
       "4          pisco  -13.7000   -76.2167     75.99        69           0   \n",
       "5            moa   20.6569   -74.9403     73.71        54           0   \n",
       "8   constitucion  -35.3333   -72.4167     71.71        50           0   \n",
       "10     ratnagiri   16.9833    73.3000     74.21        43           0   \n",
       "11         ancud  -41.8697   -73.8203     71.60        56           0   \n",
       "12        kampot   10.6167   104.1833     71.60        88           0   \n",
       "\n",
       "    Wind Speed Country        Date                                Hotel Name  \n",
       "1         9.22      LK  1612381205                        Thotupola Lakeside  \n",
       "2         2.30      ZA  1612381180                         Blue Lagoon Hotel  \n",
       "3         0.67      MR  1612381258                              Odar kanawal  \n",
       "4         8.05      PE  1612381234                            HOSTAL MIRAMAR  \n",
       "5         8.50      CU  1612381266                        Islazul Miraflores  \n",
       "8         9.48      CL  1612381264               Hotel Boutique Las Azucenas  \n",
       "10        4.72      IN  1612381316  Kohinoor Samudra Beach Resort, Ratnagiri  \n",
       "11        6.91      CL  1612381346                  Panamericana Hotel Ancud  \n",
       "12        2.30      KH  1612381360                           Bamboo Bungalow  "
      ]
     },
     "execution_count": 12,
     "metadata": {},
     "output_type": "execute_result"
    }
   ],
   "source": [
    "hotel_df.head(12)"
   ]
  },
  {
   "cell_type": "code",
   "execution_count": 13,
   "metadata": {},
   "outputs": [],
   "source": [
    "# NOTE: Do not change any of the code in this cell\n",
    "\n",
    "# Using the template add the hotel marks to the heatmap\n",
    "info_box_template = \"\"\"\n",
    "<dl>\n",
    "<dt>Name</dt><dd>{Hotel Name}</dd>\n",
    "<dt>City</dt><dd>{City}</dd>\n",
    "<dt>Country</dt><dd>{Country}</dd>\n",
    "</dl>\n",
    "\"\"\"\n",
    "# Store the DataFrame Row\n",
    "# NOTE: be sure to update with your DataFrame name\n",
    "hotel_info = [info_box_template.format(**row) for index, row in hotel_df.iterrows()]\n",
    "locations = hotel_df[[\"Latitude\", \"Longitude\"]]"
   ]
  },
  {
   "cell_type": "code",
   "execution_count": 14,
   "metadata": {},
   "outputs": [
    {
     "data": {
      "application/vnd.jupyter.widget-view+json": {
       "model_id": "caf9586669a242369220e0c9763af6db",
       "version_major": 2,
       "version_minor": 0
      },
      "text/plain": [
       "Figure(layout=FigureLayout(height='420px'))"
      ]
     },
     "metadata": {},
     "output_type": "display_data"
    }
   ],
   "source": [
    "# Add marker layer ontop of heat map\n",
    "# Assign the marker layer to a variable\n",
    "fig = gmaps.figure()\n",
    "markers = gmaps.marker_layer(locations, \n",
    "                            info_box_content = hotel_info)\n",
    "\n",
    "# Add the layers to the map\n",
    "fig.add_layer(markers)\n",
    "fig.add_layer(heat_layer)\n",
    "\n",
    "# Display figure\n",
    "fig"
   ]
  }
 ],
 "metadata": {
  "kernelspec": {
   "display_name": "Python [conda env:PythonData] *",
   "language": "python",
   "name": "conda-env-PythonData-py"
  },
  "language_info": {
   "codemirror_mode": {
    "name": "ipython",
    "version": 3
   },
   "file_extension": ".py",
   "mimetype": "text/x-python",
   "name": "python",
   "nbconvert_exporter": "python",
   "pygments_lexer": "ipython3",
   "version": "3.8.5"
  },
  "latex_envs": {
   "LaTeX_envs_menu_present": true,
   "autoclose": false,
   "autocomplete": true,
   "bibliofile": "biblio.bib",
   "cite_by": "apalike",
   "current_citInitial": 1,
   "eqLabelWithNumbers": true,
   "eqNumInitial": 1,
   "hotkeys": {
    "equation": "Ctrl-E",
    "itemize": "Ctrl-I"
   },
   "labels_anchors": false,
   "latex_user_defs": false,
   "report_style_numbering": false,
   "user_envs_cfg": false
  }
 },
 "nbformat": 4,
 "nbformat_minor": 4
}
